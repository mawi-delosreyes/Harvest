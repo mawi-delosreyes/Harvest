{
 "cells": [
  {
   "cell_type": "code",
   "execution_count": 1,
   "metadata": {},
   "outputs": [],
   "source": [
    "import pandas as pd\n",
    "import numpy as np\n",
    "import matplotlib.pyplot as plt\n",
    "import warnings\n",
    "import math\n",
    "warnings.filterwarnings('ignore')\n",
    "pd.set_option('display.max_rows', None)"
   ]
  },
  {
   "cell_type": "code",
   "execution_count": 2,
   "metadata": {},
   "outputs": [],
   "source": [
    "# Read a CSV file into a DataFrame\n",
    "csv_file_path = '../Dataset/XRP_dataset.csv'  # Replace with your CSV file path\n",
    "df = pd.read_csv(csv_file_path)\n",
    "xrp_df1 = df[:500]"
   ]
  },
  {
   "cell_type": "code",
   "execution_count": 3,
   "metadata": {},
   "outputs": [
    {
     "data": {
      "text/html": [
       "<div>\n",
       "<style scoped>\n",
       "    .dataframe tbody tr th:only-of-type {\n",
       "        vertical-align: middle;\n",
       "    }\n",
       "\n",
       "    .dataframe tbody tr th {\n",
       "        vertical-align: top;\n",
       "    }\n",
       "\n",
       "    .dataframe thead th {\n",
       "        text-align: right;\n",
       "    }\n",
       "</style>\n",
       "<table border=\"1\" class=\"dataframe\">\n",
       "  <thead>\n",
       "    <tr style=\"text-align: right;\">\n",
       "      <th></th>\n",
       "      <th>open_time</th>\n",
       "      <th>open</th>\n",
       "      <th>high</th>\n",
       "      <th>low</th>\n",
       "      <th>close</th>\n",
       "      <th>volume</th>\n",
       "      <th>close_time</th>\n",
       "    </tr>\n",
       "  </thead>\n",
       "  <tbody>\n",
       "    <tr>\n",
       "      <th>0</th>\n",
       "      <td>1567296300000</td>\n",
       "      <td>0.25808</td>\n",
       "      <td>0.25821</td>\n",
       "      <td>0.25778</td>\n",
       "      <td>0.25787</td>\n",
       "      <td>66709.6</td>\n",
       "      <td>1567296599999</td>\n",
       "    </tr>\n",
       "    <tr>\n",
       "      <th>1</th>\n",
       "      <td>1567296600000</td>\n",
       "      <td>0.25787</td>\n",
       "      <td>0.25789</td>\n",
       "      <td>0.25744</td>\n",
       "      <td>0.25751</td>\n",
       "      <td>76896.3</td>\n",
       "      <td>1567296899999</td>\n",
       "    </tr>\n",
       "    <tr>\n",
       "      <th>2</th>\n",
       "      <td>1567296900000</td>\n",
       "      <td>0.25751</td>\n",
       "      <td>0.25793</td>\n",
       "      <td>0.25745</td>\n",
       "      <td>0.25774</td>\n",
       "      <td>71280.3</td>\n",
       "      <td>1567297199999</td>\n",
       "    </tr>\n",
       "    <tr>\n",
       "      <th>3</th>\n",
       "      <td>1567297200000</td>\n",
       "      <td>0.25778</td>\n",
       "      <td>0.25788</td>\n",
       "      <td>0.25757</td>\n",
       "      <td>0.25781</td>\n",
       "      <td>45598.6</td>\n",
       "      <td>1567297499999</td>\n",
       "    </tr>\n",
       "    <tr>\n",
       "      <th>4</th>\n",
       "      <td>1567297500000</td>\n",
       "      <td>0.25781</td>\n",
       "      <td>0.25804</td>\n",
       "      <td>0.25753</td>\n",
       "      <td>0.25804</td>\n",
       "      <td>114789.9</td>\n",
       "      <td>1567297799999</td>\n",
       "    </tr>\n",
       "  </tbody>\n",
       "</table>\n",
       "</div>"
      ],
      "text/plain": [
       "       open_time     open     high      low    close    volume     close_time\n",
       "0  1567296300000  0.25808  0.25821  0.25778  0.25787   66709.6  1567296599999\n",
       "1  1567296600000  0.25787  0.25789  0.25744  0.25751   76896.3  1567296899999\n",
       "2  1567296900000  0.25751  0.25793  0.25745  0.25774   71280.3  1567297199999\n",
       "3  1567297200000  0.25778  0.25788  0.25757  0.25781   45598.6  1567297499999\n",
       "4  1567297500000  0.25781  0.25804  0.25753  0.25804  114789.9  1567297799999"
      ]
     },
     "execution_count": 3,
     "metadata": {},
     "output_type": "execute_result"
    }
   ],
   "source": [
    "xrp_df1.head()"
   ]
  },
  {
   "cell_type": "code",
   "execution_count": 4,
   "metadata": {},
   "outputs": [],
   "source": [
    "def checkCrossOver(macd, signal_line):\n",
    "\n",
    "    if macd > signal_line: \n",
    "        return 1\n",
    "    elif macd < signal_line: \n",
    "        return -1\n",
    "    else: \n",
    "        return 0"
   ]
  },
  {
   "cell_type": "code",
   "execution_count": 5,
   "metadata": {},
   "outputs": [],
   "source": [
    "def getATR(df, period):\n",
    "    \n",
    "    # Calculate the True Range (TR)\n",
    "    df['high_low'] = df['high'] - df['low']\n",
    "    df['high_close'] = abs(df['high'] - df['close'].shift())\n",
    "    df['low_close'] = abs(df['low'] - df['close'].shift())\n",
    "    df['tr'] = df[['high_low', 'high_close', 'low_close']].max(axis=1)\n",
    "\n",
    "    # Calculate the Average True Range (ATR)\n",
    "    df['atr'] = df['tr'].rolling(window=period).mean()\n",
    "\n",
    "    return df"
   ]
  },
  {
   "cell_type": "code",
   "execution_count": 6,
   "metadata": {},
   "outputs": [],
   "source": [
    "def getADX(df, period):\n",
    "    high = df['high']\n",
    "    low  = df['low']\n",
    "\n",
    "    plus_dm = high.diff()\n",
    "    plus_dm[plus_dm < 0] = 0\n",
    "    minus_dm = low.diff()\n",
    "    minus_dm[minus_dm > 0] = 0\n",
    "\n",
    "    atr = getATR(df, period)\n",
    "\n",
    "    plus_di = 100 * (plus_dm.ewm(alpha = 1/period).mean()/atr['atr'])\n",
    "    minus_di = abs(100 * (minus_dm.ewm(alpha = 1/period).mean() / atr['atr']))\n",
    "    dx = (abs(plus_di - minus_di) / (plus_di + minus_di)) * 100\n",
    "    adx = ((dx.shift(1) * (period - 1)) + dx) / period\n",
    "    adx = adx.ewm(alpha=1/period).mean()\n",
    "    return plus_di, minus_di, adx\n"
   ]
  },
  {
   "cell_type": "code",
   "execution_count": 7,
   "metadata": {},
   "outputs": [],
   "source": [
    "xrp_df1['EMA12'] = xrp_df1['close'].ewm(span=12, adjust=False).mean()\n",
    "xrp_df1['EMA26'] = xrp_df1['close'].ewm(span=26, adjust=False).mean()\n",
    "xrp_df1['MACD'] = xrp_df1['EMA12'] - xrp_df1['EMA26']\n",
    "xrp_df1['Signal_Line'] = xrp_df1['MACD'].ewm(span=9, adjust=False).mean()\n",
    "\n",
    "xrp_df1['plus_di'] = pd.DataFrame(getADX(df, 6)[0]).rename(columns = {0:'plus_di'})\n",
    "xrp_df1['minus_di'] = pd.DataFrame(getADX(df, 6)[1]).rename(columns = {0:'minus_di'})\n",
    "xrp_df1['adx'] = pd.DataFrame(getADX(df, 6)[2]).rename(columns = {0:'adx'})"
   ]
  },
  {
   "cell_type": "code",
   "execution_count": 8,
   "metadata": {},
   "outputs": [],
   "source": [
    "crossover = []\n",
    "intersect_list = []\n",
    "old_intersection = None\n",
    "for index, row in xrp_df1.iterrows():    \n",
    "\n",
    "    # Add any additional logic here if needed\n",
    "    intersection = checkCrossOver(row['MACD'], row['Signal_Line'])\n",
    "    if old_intersection != intersection:\n",
    "        intersect_list.append(1)\n",
    "    else: intersect_list.append(0)\n",
    "\n",
    "    old_intersection = intersection \n",
    "\n",
    "\n",
    "    crossover.append(intersection)\n",
    "\n",
    "xrp_df1['crossover'] = crossover\n",
    "xrp_df1['intersection'] = intersect_list"
   ]
  },
  {
   "cell_type": "code",
   "execution_count": 9,
   "metadata": {},
   "outputs": [],
   "source": [
    "def checkMACD(EMA12, EMA26, MACD, signal_line):\n",
    "    if EMA12 > EMA26 and MACD < signal_line:\n",
    "        return 1  # Buy signal\n",
    "    elif EMA12 < EMA26 and MACD > signal_line:\n",
    "        return -1  # Sell signal\n",
    "    else:\n",
    "        return 0  # No signal\n",
    "    "
   ]
  },
  {
   "cell_type": "code",
   "execution_count": 10,
   "metadata": {},
   "outputs": [],
   "source": [
    "def checkADX(plus_di, minus_di, adx):\n",
    "    if adx > 25 and plus_di > minus_di:\n",
    "        return 1  # Buy signal\n",
    "    elif adx > 25 and minus_di > plus_di:\n",
    "        return -1  # Sell signal\n",
    "    else:\n",
    "        return 0  # No signal"
   ]
  },
  {
   "cell_type": "code",
   "execution_count": 11,
   "metadata": {},
   "outputs": [],
   "source": [
    "def checkSignal(MACD, ADX):\n",
    "    if MACD * ADX == 1:\n",
    "        return 1\n",
    "    else: return 0"
   ]
  },
  {
   "cell_type": "code",
   "execution_count": 12,
   "metadata": {},
   "outputs": [],
   "source": [
    "def strategy(df):\n",
    "    df['MACD_Signal'] = df.apply(lambda row: checkMACD(row['EMA12'], row['EMA26'], row['MACD'], row['Signal_Line']), axis=1)\n",
    "    df['ADX_Signal'] = df.apply(lambda row: checkADX(row['plus_di'], row['minus_di'], row['adx']), axis=1)\n",
    "\n",
    "    # Combine the signals\n",
    "    df['Combined_Signal'] = df.apply(lambda row: checkSignal(row['MACD_Signal'], row['ADX_Signal']), axis=1)\n",
    "    return df"
   ]
  },
  {
   "cell_type": "code",
   "execution_count": 16,
   "metadata": {},
   "outputs": [],
   "source": [
    "#finalize dataset\n",
    "xrp_df1 = strategy(xrp_df1)\n",
    "\n",
    "xrp_df1['returns'] = pd.DataFrame(np.diff(xrp_df1['close'], prepend=[0])).rename(columns = {0:'returns'})\n",
    "\n",
    "strategy_ret = []\n",
    "for i in range(len(xrp_df1)):\n",
    "    strategy_ret.append(xrp_df1['returns'][i] * xrp_df1['Combined_Signal'][i])\n",
    "\n",
    "xrp_df1['strategy_returns'] = strategy_ret\n"
   ]
  },
  {
   "cell_type": "code",
   "execution_count": 20,
   "metadata": {},
   "outputs": [
    {
     "name": "stdout",
     "output_type": "stream",
     "text": [
      "Profit gained from the ADX strategy by investing P1000 in XRP : 0.32\n",
      "Profit percentage of the ADX strategy : 0\n"
     ]
    }
   ],
   "source": [
    "investment_value = 100\n",
    "investment_ret = []\n",
    "\n",
    "for i in range(len(xrp_df1['strategy_returns'])):\n",
    "    number_of_stocks = math.floor(investment_value/xrp_df1['close'][i])\n",
    "    returns = number_of_stocks * xrp_df1['strategy_returns'][i]\n",
    "    investment_ret.append(returns)\n",
    "\n",
    "\n",
    "investment_ret_df = pd.DataFrame(investment_ret).rename(columns = {0:'investment_returns'})\n",
    "total_investment_ret = round(sum(investment_ret_df['investment_returns']), 2)\n",
    "profit_percentage = math.floor((total_investment_ret/investment_value)*100)\n",
    "print('Profit gained from the ADX strategy by investing P1000 in XRP : ' + str(total_investment_ret))\n",
    "print('Profit percentage of the ADX strategy : ' + str(profit_percentage))"
   ]
  },
  {
   "cell_type": "code",
   "execution_count": null,
   "metadata": {},
   "outputs": [],
   "source": []
  }
 ],
 "metadata": {
  "kernelspec": {
   "display_name": "PilotTrading",
   "language": "python",
   "name": "python3"
  },
  "language_info": {
   "codemirror_mode": {
    "name": "ipython",
    "version": 3
   },
   "file_extension": ".py",
   "mimetype": "text/x-python",
   "name": "python",
   "nbconvert_exporter": "python",
   "pygments_lexer": "ipython3",
   "version": "3.13.2"
  }
 },
 "nbformat": 4,
 "nbformat_minor": 2
}
