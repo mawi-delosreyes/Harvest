{
 "cells": [
  {
   "cell_type": "code",
   "execution_count": 91,
   "metadata": {},
   "outputs": [],
   "source": [
    "import pandas as pd\n",
    "import numpy as np\n",
    "import matplotlib.pyplot as plt\n",
    "import warnings\n",
    "import math\n",
    "warnings.filterwarnings('ignore')\n",
    "pd.set_option('display.max_rows', None)"
   ]
  },
  {
   "cell_type": "markdown",
   "metadata": {},
   "source": [
    "## Prepare dataset"
   ]
  },
  {
   "cell_type": "code",
   "execution_count": 92,
   "metadata": {},
   "outputs": [],
   "source": [
    "# Read a CSV file into a DataFrame\n",
    "csv_file_path = \"../Dataset/XRPUSDT/XRPUSDT_5min.csv\"  # Replace with your CSV file path\n",
    "xrp_df = pd.read_csv(csv_file_path)\n",
    "\n",
    "xrp_df['timestamp'] = pd.to_datetime(xrp_df['timestamp'])\n",
    "\n",
    "earliest_data = pd.to_datetime('2025-04-01')\n",
    "\n",
    "xrp_df = xrp_df[xrp_df['timestamp'] >= earliest_data]"
   ]
  },
  {
   "cell_type": "code",
   "execution_count": 93,
   "metadata": {},
   "outputs": [],
   "source": [
    "def getATR(df, period):\n",
    "    # Calculate the True Range (TR)\n",
    "    df['high_low'] = df['high'] - df['low']\n",
    "    df['high_close'] = abs(df['high'] - df['close'].shift())\n",
    "    df['low_close'] = abs(df['low'] - df['close'].shift())\n",
    "    df['tr'] = df[['high_low', 'high_close', 'low_close']].max(axis=1)\n",
    "\n",
    "    # Calculate the Average True Range (ATR) with Wilder's method \n",
    "    df['atr'] = df['tr'].ewm(alpha=1/period, adjust=False).mean()\n",
    "\n",
    "    return df"
   ]
  },
  {
   "cell_type": "code",
   "execution_count": 94,
   "metadata": {},
   "outputs": [],
   "source": [
    "def getADX(df, period):\n",
    "    high = df['high']\n",
    "    low  = df['low']\n",
    "\n",
    "    up_move = high.diff()\n",
    "    down_move = -low.diff()\n",
    "\n",
    "    plus_dm = np.where((up_move > down_move) & (up_move > 0), up_move, 0.0)\n",
    "    minus_dm = np.where((up_move < down_move) & (down_move > 0), down_move, 0.0)\n",
    "\n",
    "\n",
    "    df = getATR(df.copy(), period)\n",
    "\n",
    "    plus_dm_ewm = pd.Series(plus_dm, index=df.index).ewm(alpha=1/period, adjust=False).mean()\n",
    "    minus_dm_ewm = pd.Series(minus_dm, index=df.index).ewm(alpha=1/period, adjust=False).mean()\n",
    "\n",
    "    plus_di = 100 * (plus_dm_ewm / df['atr'])\n",
    "    minus_di = 100 * (minus_dm_ewm / df['atr'])\n",
    "\n",
    "    dx = 100 * abs(plus_di - minus_di) / (plus_di + minus_di)\n",
    "    adx = dx.ewm(alpha=1/period, adjust=False).mean()\n",
    "\n",
    "    return plus_di, minus_di, adx, df['atr']\n"
   ]
  },
  {
   "cell_type": "code",
   "execution_count": 95,
   "metadata": {},
   "outputs": [],
   "source": [
    "tp = 2\n",
    "sl = -1\n",
    "\n",
    "trend_df = pd.DataFrame()\n",
    "\n",
    "trend_df['timestamp'] = xrp_df['timestamp']\n",
    "\n",
    "#SMA\n",
    "trend_df['SMA_fast'] = xrp_df['close'].rolling(window=10).mean()\n",
    "trend_df['SMA_slow'] = xrp_df['close'].rolling(window=30).mean()\n",
    "\n",
    "#MACD\n",
    "trend_df['EMA_fast'] = xrp_df['close'].ewm(span=12, adjust=False).mean()\n",
    "trend_df['EMA_slow'] = xrp_df['close'].ewm(span=26, adjust=False).mean()\n",
    "trend_df['MACD'] = trend_df['EMA_fast'] - trend_df['EMA_slow']\n",
    "trend_df['Signal_Line'] = trend_df['MACD'].ewm(span=9, adjust=False).mean()\n",
    "\n",
    "#ADX\n",
    "adx = getADX(xrp_df, 14)\n",
    "trend_df['plus_di'] = pd.DataFrame(adx[0]).rename(columns = {0:'plus_di'})\n",
    "trend_df['minus_di'] = pd.DataFrame(adx[1]).rename(columns = {0:'minus_di'})\n",
    "trend_df['adx'] = pd.DataFrame(adx[2]).rename(columns = {0:'adx'})\n",
    "trend_df['take_profit'] = tp * getADX(xrp_df, 14)[3]\n",
    "trend_df['stop_loss'] = sl * getADX(xrp_df, 14)[3]\n",
    "\n",
    "#VOLUME\n",
    "trend_df['avg_volume'] = xrp_df['volume'].rolling(window=20).mean()\n",
    "trend_df['volume'] = xrp_df['volume']\n",
    "\n",
    "trend_df.dropna(inplace = True)\n",
    "trend_df.reset_index(drop=True, inplace=True)\n"
   ]
  },
  {
   "cell_type": "markdown",
   "metadata": {},
   "source": [
    "Add Signals"
   ]
  },
  {
   "cell_type": "code",
   "execution_count": 96,
   "metadata": {},
   "outputs": [],
   "source": [
    "def checkMACD(EMA_fast, EMA_slow, MACD, signal_line):\n",
    "    if EMA_fast > EMA_slow and MACD > signal_line:\n",
    "        return 1  # Buy signal\n",
    "    elif EMA_fast < EMA_slow and MACD < signal_line:\n",
    "        return -1  # Sell signal\n",
    "    else:\n",
    "        return 0  # No signal\n",
    "    "
   ]
  },
  {
   "cell_type": "code",
   "execution_count": 97,
   "metadata": {},
   "outputs": [],
   "source": [
    "def checkSMA(SMA_fast, SMA_slow):\n",
    "    if SMA_fast > SMA_slow:\n",
    "        return 1  # Buy signal\n",
    "    elif SMA_fast < SMA_slow:\n",
    "        return -1  # Sell signal\n",
    "    else:\n",
    "        return 0  # No signal"
   ]
  },
  {
   "cell_type": "code",
   "execution_count": 98,
   "metadata": {},
   "outputs": [],
   "source": [
    "def checkADX(plus_di, minus_di, adx):\n",
    "    if adx > 20 and plus_di > minus_di:\n",
    "        return 1  # Buy signal\n",
    "    elif adx > 20 and minus_di > plus_di:\n",
    "        return -1  # Sell signal\n",
    "    else:\n",
    "        return 0  # No signal / Take Profit"
   ]
  },
  {
   "cell_type": "code",
   "execution_count": 99,
   "metadata": {},
   "outputs": [],
   "source": [
    "def checkVolume(volume, avg_volume):\n",
    "    if volume > avg_volume:\n",
    "        return 1  # High volume\n",
    "    else:\n",
    "        return 0  # Low volume"
   ]
  },
  {
   "cell_type": "code",
   "execution_count": 100,
   "metadata": {},
   "outputs": [],
   "source": [
    "def checkSignal(SMA, MACD, ADX, vol):\n",
    "    return SMA * MACD * ADX * vol"
   ]
  },
  {
   "cell_type": "code",
   "execution_count": 101,
   "metadata": {},
   "outputs": [],
   "source": [
    "def addSignals(xrp_df, trend_df):\n",
    "    xrp_df['SMA_Signal'] = trend_df.apply(lambda row: checkSMA(row['SMA_fast'], row['SMA_slow']), axis=1)\n",
    "    xrp_df['MACD_Signal'] = trend_df.apply(lambda row: checkMACD(row['EMA_fast'], row['EMA_slow'], row['MACD'], row['Signal_Line']), axis=1)\n",
    "    xrp_df['ADX_Signal'] = trend_df.apply(lambda row: checkADX(row['plus_di'], row['minus_di'], row['adx']), axis=1)\n",
    "    xrp_df['Volume_Signal'] = trend_df.apply(lambda row: checkVolume(row['volume'], row['avg_volume']), axis=1)\n",
    "\n",
    "    # Combine the signals\n",
    "    xrp_df['Combined_Signal'] = xrp_df.apply(lambda row: checkSignal(row['SMA_Signal'], row['MACD_Signal'], row['ADX_Signal'], row['Volume_Signal']), axis=1)\n",
    "    return xrp_df"
   ]
  },
  {
   "cell_type": "code",
   "execution_count": 102,
   "metadata": {},
   "outputs": [],
   "source": [
    "trend_df = trend_df.reset_index(drop=True)\n",
    "xrp_df = xrp_df.reset_index(drop=True)\n",
    "\n",
    "xrp_df['take_profit'] = trend_df['take_profit']\n",
    "xrp_df['stop_loss'] = trend_df['stop_loss']\n",
    "\n",
    "xrp_df = addSignals(xrp_df, trend_df)"
   ]
  },
  {
   "cell_type": "markdown",
   "metadata": {},
   "source": [
    "## Python Code Implementation"
   ]
  },
  {
   "cell_type": "code",
   "execution_count": 103,
   "metadata": {},
   "outputs": [
    {
     "data": {
      "text/html": [
       "<div>\n",
       "<style scoped>\n",
       "    .dataframe tbody tr th:only-of-type {\n",
       "        vertical-align: middle;\n",
       "    }\n",
       "\n",
       "    .dataframe tbody tr th {\n",
       "        vertical-align: top;\n",
       "    }\n",
       "\n",
       "    .dataframe thead th {\n",
       "        text-align: right;\n",
       "    }\n",
       "</style>\n",
       "<table border=\"1\" class=\"dataframe\">\n",
       "  <thead>\n",
       "    <tr style=\"text-align: right;\">\n",
       "      <th></th>\n",
       "      <th>timestamp</th>\n",
       "      <th>open</th>\n",
       "      <th>high</th>\n",
       "      <th>low</th>\n",
       "      <th>close</th>\n",
       "      <th>volume</th>\n",
       "      <th>take_profit</th>\n",
       "      <th>stop_loss</th>\n",
       "      <th>SMA_Signal</th>\n",
       "      <th>MACD_Signal</th>\n",
       "      <th>ADX_Signal</th>\n",
       "      <th>Volume_Signal</th>\n",
       "      <th>Combined_Signal</th>\n",
       "    </tr>\n",
       "  </thead>\n",
       "  <tbody>\n",
       "    <tr>\n",
       "      <th>0</th>\n",
       "      <td>2025-04-01 00:00:00</td>\n",
       "      <td>2.0899</td>\n",
       "      <td>2.1015</td>\n",
       "      <td>2.0852</td>\n",
       "      <td>2.1004</td>\n",
       "      <td>1206826.0</td>\n",
       "      <td>0.015197</td>\n",
       "      <td>-0.007598</td>\n",
       "      <td>1.0</td>\n",
       "      <td>1.0</td>\n",
       "      <td>1.0</td>\n",
       "      <td>1.0</td>\n",
       "      <td>1.0</td>\n",
       "    </tr>\n",
       "    <tr>\n",
       "      <th>1</th>\n",
       "      <td>2025-04-01 00:05:00</td>\n",
       "      <td>2.1005</td>\n",
       "      <td>2.1070</td>\n",
       "      <td>2.0965</td>\n",
       "      <td>2.1045</td>\n",
       "      <td>1058005.0</td>\n",
       "      <td>0.014768</td>\n",
       "      <td>-0.007384</td>\n",
       "      <td>1.0</td>\n",
       "      <td>1.0</td>\n",
       "      <td>1.0</td>\n",
       "      <td>0.0</td>\n",
       "      <td>0.0</td>\n",
       "    </tr>\n",
       "    <tr>\n",
       "      <th>2</th>\n",
       "      <td>2025-04-01 00:10:00</td>\n",
       "      <td>2.1045</td>\n",
       "      <td>2.1045</td>\n",
       "      <td>2.0928</td>\n",
       "      <td>2.0929</td>\n",
       "      <td>468495.0</td>\n",
       "      <td>0.014571</td>\n",
       "      <td>-0.007285</td>\n",
       "      <td>1.0</td>\n",
       "      <td>1.0</td>\n",
       "      <td>1.0</td>\n",
       "      <td>0.0</td>\n",
       "      <td>0.0</td>\n",
       "    </tr>\n",
       "    <tr>\n",
       "      <th>3</th>\n",
       "      <td>2025-04-01 00:15:00</td>\n",
       "      <td>2.0930</td>\n",
       "      <td>2.0952</td>\n",
       "      <td>2.0866</td>\n",
       "      <td>2.0951</td>\n",
       "      <td>656157.0</td>\n",
       "      <td>0.014458</td>\n",
       "      <td>-0.007229</td>\n",
       "      <td>1.0</td>\n",
       "      <td>1.0</td>\n",
       "      <td>1.0</td>\n",
       "      <td>1.0</td>\n",
       "      <td>1.0</td>\n",
       "    </tr>\n",
       "    <tr>\n",
       "      <th>4</th>\n",
       "      <td>2025-04-01 00:20:00</td>\n",
       "      <td>2.0952</td>\n",
       "      <td>2.0978</td>\n",
       "      <td>2.0932</td>\n",
       "      <td>2.0955</td>\n",
       "      <td>745775.0</td>\n",
       "      <td>0.014154</td>\n",
       "      <td>-0.007077</td>\n",
       "      <td>1.0</td>\n",
       "      <td>1.0</td>\n",
       "      <td>1.0</td>\n",
       "      <td>1.0</td>\n",
       "      <td>1.0</td>\n",
       "    </tr>\n",
       "  </tbody>\n",
       "</table>\n",
       "</div>"
      ],
      "text/plain": [
       "            timestamp    open    high     low   close     volume  take_profit  \\\n",
       "0 2025-04-01 00:00:00  2.0899  2.1015  2.0852  2.1004  1206826.0     0.015197   \n",
       "1 2025-04-01 00:05:00  2.1005  2.1070  2.0965  2.1045  1058005.0     0.014768   \n",
       "2 2025-04-01 00:10:00  2.1045  2.1045  2.0928  2.0929   468495.0     0.014571   \n",
       "3 2025-04-01 00:15:00  2.0930  2.0952  2.0866  2.0951   656157.0     0.014458   \n",
       "4 2025-04-01 00:20:00  2.0952  2.0978  2.0932  2.0955   745775.0     0.014154   \n",
       "\n",
       "   stop_loss  SMA_Signal  MACD_Signal  ADX_Signal  Volume_Signal  \\\n",
       "0  -0.007598         1.0          1.0         1.0            1.0   \n",
       "1  -0.007384         1.0          1.0         1.0            0.0   \n",
       "2  -0.007285         1.0          1.0         1.0            0.0   \n",
       "3  -0.007229         1.0          1.0         1.0            1.0   \n",
       "4  -0.007077         1.0          1.0         1.0            1.0   \n",
       "\n",
       "   Combined_Signal  \n",
       "0              1.0  \n",
       "1              0.0  \n",
       "2              0.0  \n",
       "3              1.0  \n",
       "4              1.0  "
      ]
     },
     "execution_count": 103,
     "metadata": {},
     "output_type": "execute_result"
    }
   ],
   "source": [
    "xrp_df.head()"
   ]
  },
  {
   "cell_type": "code",
   "execution_count": 104,
   "metadata": {},
   "outputs": [],
   "source": [
    "#dataset\n",
    "first_day = xrp_df['timestamp'].dt.date.min()\n",
    "xrp_first_day_rows = xrp_df[xrp_df['timestamp'].dt.date == first_day]\n",
    "\n",
    "xrp_simulation_data = xrp_df[xrp_df['timestamp'].dt.date > first_day]\n",
    "xrp_simulation_data = xrp_simulation_data[['timestamp', 'open', 'high', 'low', 'close', 'volume']]\n",
    "columns_to_add = ['SMA_fast', 'SMA_slow', 'EMA_fast', 'EMA_slow', 'MACD', 'Signal_Line', \n",
    "                  'plus_di', 'minus_di', 'adx', 'avg_volume']\n",
    "xrp_first_day_rows = xrp_first_day_rows.join(trend_df[columns_to_add])\n"
   ]
  },
  {
   "cell_type": "code",
   "execution_count": 105,
   "metadata": {},
   "outputs": [],
   "source": [
    "def editDataFrame(df, newData):\n",
    "\n",
    "    df = df.iloc[1:]\n",
    "\n",
    "    new_data_df = pd.DataFrame(newData)\n",
    "    new_data_df['timestamp'] = pd.to_datetime(new_data_df['timestamp'])\n",
    "    df = pd.concat([df, new_data_df], ignore_index=True)\n",
    "\n",
    "    return df\n"
   ]
  },
  {
   "cell_type": "code",
   "execution_count": 106,
   "metadata": {},
   "outputs": [],
   "source": [
    "def calculateATR(df, period):\n",
    "\n",
    "    # Calculate the True Range (TR)\n",
    "    df['high_low'] = df['high'] - df['low']\n",
    "    df['high_close'] = abs(df['high'] - df['close'].shift())\n",
    "    df['low_close'] = abs(df['low'] - df['close'].shift())\n",
    "    df['tr'] = df[['high_low', 'high_close', 'low_close']].max(axis=1)\n",
    "\n",
    "    # Calculate the Average True Range (ATR) with Wilder's method \n",
    "    df['atr'] = df['tr'].ewm(alpha=1/period, adjust=False).mean()\n",
    "\n",
    "    return df"
   ]
  },
  {
   "cell_type": "code",
   "execution_count": 107,
   "metadata": {},
   "outputs": [],
   "source": [
    "def calculateADX(df, period):\n",
    "    up_move = df['high'].diff()\n",
    "    down_move = -df['low'].diff()\n",
    "\n",
    "    plus_dm = np.where((up_move > down_move) & (up_move > 0), up_move, 0.0)\n",
    "    minus_dm = np.where((up_move < down_move) & (down_move > 0), down_move, 0.0)\n",
    "\n",
    "\n",
    "    df = getATR(df.copy(), period)\n",
    "\n",
    "    plus_dm_ewm = pd.Series(plus_dm, index=df.index).ewm(alpha=1/period, adjust=False).mean()\n",
    "    minus_dm_ewm = pd.Series(minus_dm, index=df.index).ewm(alpha=1/period, adjust=False).mean()\n",
    "\n",
    "    plus_di = 100 * (plus_dm_ewm / df['atr'])\n",
    "    minus_di = 100 * (minus_dm_ewm / df['atr'])\n",
    "\n",
    "    dx = 100 * abs(plus_di - minus_di) / (plus_di + minus_di)\n",
    "    adx = dx.ewm(alpha=1/period, adjust=False).mean()\n",
    "\n",
    "    return plus_di, minus_di, adx, df['atr']\n"
   ]
  },
  {
   "cell_type": "code",
   "execution_count": 108,
   "metadata": {},
   "outputs": [],
   "source": [
    "def calculateSMA(df, fast, slow):\n",
    "\n",
    "    df.loc[df.index[-1], 'SMA_fast'] = df['close'].iloc[-fast:].mean()\n",
    "    df.loc[df.index[-1], 'SMA_slow'] = df['close'].iloc[-slow:].mean()\n",
    "\n",
    "    return df"
   ]
  },
  {
   "cell_type": "code",
   "execution_count": 109,
   "metadata": {},
   "outputs": [],
   "source": [
    "def calculateMACD(df, fast, slow, signal):\n",
    "\n",
    "    df.loc[df.index[-1], 'EMA_fast'] = df['close'].iloc[-fast:].ewm(span=fast, adjust=False).mean().iloc[-1]\n",
    "    df.loc[df.index[-1], 'EMA_slow'] = df['close'].iloc[-slow:].ewm(span=slow, adjust=False).mean().iloc[-1]\n",
    "    df.loc[df.index[-1], 'MACD'] = df['EMA_fast'].iloc[-1] - df['EMA_slow'].iloc[-1]\n",
    "    df.loc[df.index[-1], 'Signal_Line'] = df['MACD'].iloc[-signal:].ewm(span=signal, adjust=False).mean().iloc[-1]\n",
    "\n",
    "    return df\n"
   ]
  },
  {
   "cell_type": "code",
   "execution_count": 110,
   "metadata": {},
   "outputs": [],
   "source": [
    "def calculateVolume(df):\n",
    "\n",
    "    df.loc[df.index[-1], 'avg_volume'] = df['volume'].rolling(window=20).mean().iloc[-1]\n",
    "\n",
    "    return df\n"
   ]
  },
  {
   "cell_type": "code",
   "execution_count": 111,
   "metadata": {},
   "outputs": [],
   "source": [
    "def calculateTPSL(df, adx, tp=2, sl=-1):\n",
    "    \n",
    "    df.loc[df.index[-1],'take_profit'] = tp * adx\n",
    "    df.loc[df.index[-1],'stop_loss'] = sl * adx\n",
    "\n",
    "    return df\n"
   ]
  },
  {
   "cell_type": "code",
   "execution_count": 112,
   "metadata": {},
   "outputs": [],
   "source": [
    "def checkMACD(EMA_fast, EMA_slow, MACD, signal_line):\n",
    "    if EMA_fast > EMA_slow and MACD > signal_line:\n",
    "        return 1  # Buy signal\n",
    "    elif EMA_fast < EMA_slow and MACD < signal_line:\n",
    "        return -1  # Sell signal\n",
    "    else:\n",
    "        return 0  # No signal\n",
    "    "
   ]
  },
  {
   "cell_type": "code",
   "execution_count": 113,
   "metadata": {},
   "outputs": [],
   "source": [
    "def checkSMA(SMA_fast, SMA_slow):\n",
    "    if SMA_fast > SMA_slow:\n",
    "        return 1  # Buy signal\n",
    "    elif SMA_fast < SMA_slow:\n",
    "        return -1  # Sell signal\n",
    "    else:\n",
    "        return 0  # No signal"
   ]
  },
  {
   "cell_type": "code",
   "execution_count": 114,
   "metadata": {},
   "outputs": [],
   "source": [
    "def checkADX(plus_di, minus_di, adx):\n",
    "    if adx > 20 and plus_di > minus_di:\n",
    "        return 1  # Buy signal\n",
    "    elif adx > 20 and minus_di > plus_di:\n",
    "        return -1  # Sell signal\n",
    "    else:\n",
    "        return 0  # No signal / Take Profit"
   ]
  },
  {
   "cell_type": "code",
   "execution_count": 115,
   "metadata": {},
   "outputs": [],
   "source": [
    "def checkVolume(volume, avg_volume):\n",
    "    if volume > avg_volume:\n",
    "        return 1  # High volume\n",
    "    else:\n",
    "        return 0  # Low volume"
   ]
  },
  {
   "cell_type": "code",
   "execution_count": 116,
   "metadata": {},
   "outputs": [],
   "source": [
    "def checkSignal(SMA, MACD, ADX):\n",
    "    \n",
    "    return SMA * MACD * ADX"
   ]
  },
  {
   "cell_type": "code",
   "execution_count": 117,
   "metadata": {},
   "outputs": [],
   "source": [
    "def addSignals(df):\n",
    "\n",
    "    sma = checkSMA(df.loc[df.index[-1], 'SMA_fast'], df.loc[df.index[-1], 'SMA_slow'])\n",
    "    macd = checkMACD(df.loc[df.index[-1], 'EMA_fast'], df.loc[df.index[-1], 'EMA_slow'], df.loc[df.index[-1], 'MACD'], df.loc[df.index[-1], 'Signal_Line'])\n",
    "    adx = checkADX(df.loc[df.index[-1], 'plus_di'], df.loc[df.index[-1], 'minus_di'], df.loc[df.index[-1], 'adx'])\n",
    "    #vol = checkVolume(df.loc[df.index[-1], 'volume'], df.loc[df.index[-1], 'avg_volume'])\n",
    "\n",
    "\n",
    "    df.loc[df.index[-1], 'SMA_Signal'] = sma\n",
    "    df.loc[df.index[-1], 'MACD_Signal'] = macd\n",
    "    df.loc[df.index[-1], 'ADX_Signal'] = adx\n",
    "    #df.loc[df.index[-1], 'Volume_Signal'] = vol\n",
    "    \n",
    "    #df.loc[df.index[-1], 'Combined_Signal'] = checkSignal(sma, macd, adx, vol)\n",
    "    df.loc[df.index[-1], 'Combined_Signal'] = checkSignal(sma, macd, adx)\n",
    "\n",
    "    return df"
   ]
  },
  {
   "cell_type": "code",
   "execution_count": 118,
   "metadata": {},
   "outputs": [],
   "source": [
    "def prepareDataset(cryptoDf, tp=2, sl=-1):\n",
    "\n",
    "    cryptoDf = calculateSMA(cryptoDf, 10, 30)\n",
    "    cryptoDf = calculateMACD(cryptoDf, 12, 26, 9)\n",
    "    #cryptoDf = calculateVolume(cryptoDf)\n",
    "\n",
    "\n",
    "    adx = calculateADX(cryptoDf, 14)\n",
    "    cryptoDf.loc[cryptoDf.index[-1],'plus_di'] = adx[0].iloc[-1]\n",
    "    cryptoDf.loc[cryptoDf.index[-1],'minus_di'] = adx[1].iloc[-1]\n",
    "    cryptoDf.loc[cryptoDf.index[-1],'adx'] = adx[2].iloc[-1]\n",
    "\n",
    "    cryptoDf = calculateTPSL(cryptoDf, adx[3].iloc[-1], tp, sl)\n",
    "    cryptoDf = addSignals(cryptoDf)\n",
    "\n",
    "    return cryptoDf\n"
   ]
  },
  {
   "cell_type": "code",
   "execution_count": 119,
   "metadata": {},
   "outputs": [],
   "source": [
    "def manageProfit(entryPrice, currentPrice, signal, currentShares):\n",
    "    \n",
    "    trade_profit = 0\n",
    "    \n",
    "    if signal == \"buy\":\n",
    "        trade_profit = (currentPrice - entryPrice) * currentShares \n",
    "    elif signal == \"sell\":\n",
    "        trade_profit = (entryPrice - currentPrice) * currentShares\n",
    "\n",
    "    return trade_profit"
   ]
  },
  {
   "cell_type": "code",
   "execution_count": 120,
   "metadata": {},
   "outputs": [
    {
     "name": "stdout",
     "output_type": "stream",
     "text": [
      "Profit from the strategy by investing P200 in XRP : 218.99\n",
      "Profit percentage of the strategy : 9%\n",
      "Total Trades:  874\n",
      "Errors:  430\n",
      "Error Percentage:  49 %\n"
     ]
    }
   ],
   "source": [
    "def main():\n",
    "\n",
    "    initial_investment = 200\n",
    "    signal = None\n",
    "    entry_price = None\n",
    "    hold = False\n",
    "    trade_amount = 200\n",
    "    total_investment_amount = 200.00\n",
    "    total_trades = 0\n",
    "    current_shares = 0 \n",
    "    errors = 0\n",
    "    tp = 2\n",
    "    sl = -1\n",
    "    tmp_df = xrp_first_day_rows.copy()\n",
    "    profit = 0\n",
    "\n",
    "    for i in range(len(xrp_simulation_data)):\n",
    "        timestamp = xrp_simulation_data['timestamp'].iloc[i]\n",
    "        open = xrp_simulation_data['open'].iloc[i]\n",
    "        high = xrp_simulation_data['high'].iloc[i]\n",
    "        low = xrp_simulation_data['low'].iloc[i]\n",
    "        close = xrp_simulation_data['close'].iloc[i]\n",
    "        volume = xrp_simulation_data['volume'].iloc[i]\n",
    "\n",
    "        new_data = [{\n",
    "            'timestamp': timestamp, \n",
    "            'open': open, \n",
    "            'high': high, \n",
    "            'low': low, \n",
    "            'close': close,\n",
    "            'volume': volume\n",
    "        }]\n",
    "\n",
    "        tmp_df = editDataFrame(tmp_df, new_data)\n",
    "        prepared_crypto_df = prepareDataset(tmp_df, tp, sl)\n",
    "        latest_data = prepared_crypto_df.iloc[-1]\n",
    "\n",
    "        # No position held\n",
    "        if not hold:\n",
    "            if latest_data['Combined_Signal'] == 1:\n",
    "                signal = \"buy\"\n",
    "                entry_price = close\n",
    "                current_shares = trade_amount / entry_price\n",
    "                hold = True\n",
    "                total_trades += 1\n",
    "            elif latest_data['Combined_Signal'] == -1:\n",
    "                signal = \"sell\"\n",
    "                entry_price = close\n",
    "                current_shares = trade_amount / entry_price\n",
    "                hold = True\n",
    "                total_trades += 1\n",
    "\n",
    "        # When holding a position\n",
    "        else:\n",
    "            profit = manageProfit(entry_price, close, signal, current_shares)\n",
    "\n",
    "            # Check take profit and stop loss conditions or if signal says otherwise\n",
    "            if (profit >= latest_data['take_profit'] or profit <= latest_data['stop_loss']) or latest_data['Combined_Signal'] == 0:\n",
    "                total_investment_amount += profit  # Update investment amount with the profit or loss from this trade\n",
    "                if profit < 0:\n",
    "                    errors += 1\n",
    "                hold = False  # Exit the position\n",
    "                profit = 0  # Reset after trade is closed\n",
    "\n",
    "        if total_investment_amount < trade_amount:\n",
    "            trade_amount = total_investment_amount\n",
    "        #else: trade_amount = total_investment_amount    \n",
    "        \n",
    "        if total_investment_amount <= 0:\n",
    "            print(f\"Investment depleted at iteration {i} on {latest_data['timestamp']}\")\n",
    "            break\n",
    "\n",
    "    profit_percentage = math.floor((total_investment_amount/initial_investment)*100)\n",
    "    error_percentage = 0\n",
    "    if errors > 0:\n",
    "        error_percentage = math.floor(errors/total_trades * 100)\n",
    "\n",
    "    print(\"Profit from the strategy by investing P200 in XRP : \" + str(round(total_investment_amount, 2)))\n",
    "    print(\"Profit percentage of the strategy : \" + str(profit_percentage-100) + \"%\")\n",
    "    print(\"Total Trades: \", total_trades)\n",
    "    print(\"Errors: \", errors)\n",
    "    print(\"Error Percentage: \", error_percentage, \"%\")  \n",
    "\n",
    "main()\n"
   ]
  },
  {
   "cell_type": "code",
   "execution_count": null,
   "metadata": {},
   "outputs": [],
   "source": []
  },
  {
   "cell_type": "code",
   "execution_count": null,
   "metadata": {},
   "outputs": [],
   "source": []
  },
  {
   "cell_type": "code",
   "execution_count": null,
   "metadata": {},
   "outputs": [],
   "source": []
  }
 ],
 "metadata": {
  "kernelspec": {
   "display_name": "PilotTrading",
   "language": "python",
   "name": "python3"
  },
  "language_info": {
   "codemirror_mode": {
    "name": "ipython",
    "version": 3
   },
   "file_extension": ".py",
   "mimetype": "text/x-python",
   "name": "python",
   "nbconvert_exporter": "python",
   "pygments_lexer": "ipython3",
   "version": "3.13.2"
  }
 },
 "nbformat": 4,
 "nbformat_minor": 2
}
