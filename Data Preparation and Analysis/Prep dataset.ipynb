{
 "cells": [
  {
   "cell_type": "code",
   "execution_count": 5,
   "id": "31e77afa",
   "metadata": {},
   "outputs": [],
   "source": [
    "import pandas as pd\n",
    "import os"
   ]
  },
  {
   "cell_type": "code",
   "execution_count": 17,
   "id": "511731a8",
   "metadata": {},
   "outputs": [
    {
     "name": "stderr",
     "output_type": "stream",
     "text": [
      "/var/folders/sg/v_8cgbjj3s74ljwvkqlphl3w0000gn/T/ipykernel_16674/2215364860.py:15: FutureWarning: 'T' is deprecated and will be removed in a future version, please use 'min' instead.\n",
      "  df_5min = df.resample(\"5T\").agg({\n"
     ]
    },
    {
     "name": "stdout",
     "output_type": "stream",
     "text": [
      "Processed: TRXUSDT\n"
     ]
    },
    {
     "name": "stderr",
     "output_type": "stream",
     "text": [
      "/var/folders/sg/v_8cgbjj3s74ljwvkqlphl3w0000gn/T/ipykernel_16674/2215364860.py:15: FutureWarning: 'T' is deprecated and will be removed in a future version, please use 'min' instead.\n",
      "  df_5min = df.resample(\"5T\").agg({\n"
     ]
    },
    {
     "name": "stdout",
     "output_type": "stream",
     "text": [
      "Processed: XRPUSDT\n"
     ]
    },
    {
     "name": "stderr",
     "output_type": "stream",
     "text": [
      "/var/folders/sg/v_8cgbjj3s74ljwvkqlphl3w0000gn/T/ipykernel_16674/2215364860.py:15: FutureWarning: 'T' is deprecated and will be removed in a future version, please use 'min' instead.\n",
      "  df_5min = df.resample(\"5T\").agg({\n"
     ]
    },
    {
     "name": "stdout",
     "output_type": "stream",
     "text": [
      "Processed: XLMUSDT\n"
     ]
    },
    {
     "name": "stderr",
     "output_type": "stream",
     "text": [
      "/var/folders/sg/v_8cgbjj3s74ljwvkqlphl3w0000gn/T/ipykernel_16674/2215364860.py:15: FutureWarning: 'T' is deprecated and will be removed in a future version, please use 'min' instead.\n",
      "  df_5min = df.resample(\"5T\").agg({\n"
     ]
    },
    {
     "name": "stdout",
     "output_type": "stream",
     "text": [
      "Processed: AVAXUSDT\n"
     ]
    },
    {
     "name": "stderr",
     "output_type": "stream",
     "text": [
      "/var/folders/sg/v_8cgbjj3s74ljwvkqlphl3w0000gn/T/ipykernel_16674/2215364860.py:15: FutureWarning: 'T' is deprecated and will be removed in a future version, please use 'min' instead.\n",
      "  df_5min = df.resample(\"5T\").agg({\n"
     ]
    },
    {
     "name": "stdout",
     "output_type": "stream",
     "text": [
      "Processed: CAKEUSDT\n"
     ]
    },
    {
     "name": "stderr",
     "output_type": "stream",
     "text": [
      "/var/folders/sg/v_8cgbjj3s74ljwvkqlphl3w0000gn/T/ipykernel_16674/2215364860.py:15: FutureWarning: 'T' is deprecated and will be removed in a future version, please use 'min' instead.\n",
      "  df_5min = df.resample(\"5T\").agg({\n"
     ]
    },
    {
     "name": "stdout",
     "output_type": "stream",
     "text": [
      "Processed: SHIBUSDT\n"
     ]
    },
    {
     "name": "stderr",
     "output_type": "stream",
     "text": [
      "/var/folders/sg/v_8cgbjj3s74ljwvkqlphl3w0000gn/T/ipykernel_16674/2215364860.py:15: FutureWarning: 'T' is deprecated and will be removed in a future version, please use 'min' instead.\n",
      "  df_5min = df.resample(\"5T\").agg({\n"
     ]
    },
    {
     "name": "stdout",
     "output_type": "stream",
     "text": [
      "Processed: ADAUSDT\n"
     ]
    },
    {
     "name": "stderr",
     "output_type": "stream",
     "text": [
      "/var/folders/sg/v_8cgbjj3s74ljwvkqlphl3w0000gn/T/ipykernel_16674/2215364860.py:15: FutureWarning: 'T' is deprecated and will be removed in a future version, please use 'min' instead.\n",
      "  df_5min = df.resample(\"5T\").agg({\n"
     ]
    },
    {
     "name": "stdout",
     "output_type": "stream",
     "text": [
      "Processed: LINKUSDT\n"
     ]
    },
    {
     "name": "stderr",
     "output_type": "stream",
     "text": [
      "/var/folders/sg/v_8cgbjj3s74ljwvkqlphl3w0000gn/T/ipykernel_16674/2215364860.py:15: FutureWarning: 'T' is deprecated and will be removed in a future version, please use 'min' instead.\n",
      "  df_5min = df.resample(\"5T\").agg({\n"
     ]
    },
    {
     "name": "stdout",
     "output_type": "stream",
     "text": [
      "Processed: DOTUSDT\n"
     ]
    },
    {
     "name": "stderr",
     "output_type": "stream",
     "text": [
      "/var/folders/sg/v_8cgbjj3s74ljwvkqlphl3w0000gn/T/ipykernel_16674/2215364860.py:15: FutureWarning: 'T' is deprecated and will be removed in a future version, please use 'min' instead.\n",
      "  df_5min = df.resample(\"5T\").agg({\n"
     ]
    },
    {
     "name": "stdout",
     "output_type": "stream",
     "text": [
      "Processed: SOLUSDT\n"
     ]
    },
    {
     "name": "stderr",
     "output_type": "stream",
     "text": [
      "/var/folders/sg/v_8cgbjj3s74ljwvkqlphl3w0000gn/T/ipykernel_16674/2215364860.py:15: FutureWarning: 'T' is deprecated and will be removed in a future version, please use 'min' instead.\n",
      "  df_5min = df.resample(\"5T\").agg({\n"
     ]
    },
    {
     "name": "stdout",
     "output_type": "stream",
     "text": [
      "Processed: DOGEUSDT\n"
     ]
    },
    {
     "name": "stderr",
     "output_type": "stream",
     "text": [
      "/var/folders/sg/v_8cgbjj3s74ljwvkqlphl3w0000gn/T/ipykernel_16674/2215364860.py:15: FutureWarning: 'T' is deprecated and will be removed in a future version, please use 'min' instead.\n",
      "  df_5min = df.resample(\"5T\").agg({\n"
     ]
    },
    {
     "name": "stdout",
     "output_type": "stream",
     "text": [
      "Processed: LTCUSDT\n"
     ]
    }
   ],
   "source": [
    "# Loop through the Dataset folder\n",
    "for root, dirs, files in os.walk(\"../Dataset\"):\n",
    "    for file in files:\n",
    "        if file.endswith(\".csv\"):\n",
    "            file_path = os.path.join(root, file)\n",
    "\n",
    "            # Read the CSV file and parse the timestamp column\n",
    "            df = pd.read_csv(file_path, usecols=[\"timestamp\", \"open\", \"high\", \"low\", \"close\"])\n",
    "            df[\"timestamp\"] = pd.to_datetime(df[\"timestamp\"])\n",
    "\n",
    "            # Set the timestamp as the index\n",
    "            df.set_index(\"timestamp\", inplace=True)\n",
    "\n",
    "            # Resample the data to 5-minute intervals\n",
    "            df_5min = df.resample(\"5T\").agg({\n",
    "                \"open\": \"first\",\n",
    "                \"high\": \"max\",\n",
    "                \"low\": \"min\",\n",
    "                \"close\": \"last\"\n",
    "            }).dropna()\n",
    "\n",
    "            # Remove first row since not all data starts with 00 or 05  \n",
    "            df_5min = df_5min.iloc[1:]\n",
    "\n",
    "            # Rename the file\n",
    "            file = file.split(\".\")[0]\n",
    "            new_file_path = os.path.join(root, file + \"_1min.csv\")\n",
    "            os.rename(file_path, new_file_path)\n",
    "\n",
    "            df_5min.to_csv(root + \"/\" + file + \"_5min.csv\")            \n",
    "            print(\"Processed: \" + file)\n",
    "\n"
   ]
  },
  {
   "cell_type": "code",
   "execution_count": null,
   "id": "84db1513",
   "metadata": {},
   "outputs": [],
   "source": []
  }
 ],
 "metadata": {
  "kernelspec": {
   "display_name": "PilotTrading",
   "language": "python",
   "name": "python3"
  },
  "language_info": {
   "codemirror_mode": {
    "name": "ipython",
    "version": 3
   },
   "file_extension": ".py",
   "mimetype": "text/x-python",
   "name": "python",
   "nbconvert_exporter": "python",
   "pygments_lexer": "ipython3",
   "version": "3.13.2"
  }
 },
 "nbformat": 4,
 "nbformat_minor": 5
}
